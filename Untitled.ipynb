{
 "cells": [
  {
   "cell_type": "code",
   "execution_count": 1,
   "metadata": {},
   "outputs": [],
   "source": [
    "import django \n",
    "django.setup()\n",
    "\n",
    "import ccxt\n",
    "from coinsapp.models import Coin, Value, Coinproperties\n",
    "import requests\n",
    "from datetime import datetime, timedelta\n",
    "from coinsapp.models import Coin, Value, Coinproperties\n"
   ]
  },
  {
   "cell_type": "code",
   "execution_count": null,
   "metadata": {},
   "outputs": [],
   "source": [
    "from coinsapp.get_and_filter_coin_data import get_my_coin_data, delete_old_values, update_my_markers, make_coin_properties, get_coin_ful_name\n",
    "\n",
    "#get_my_coin_data()\n",
    "#delete_old_values()\n",
    "#update_my_markers()\n",
    "make_coin_properties()\n",
    "#get_coin_ful_name()\n",
    "\n",
    "\n"
   ]
  },
  {
   "cell_type": "code",
   "execution_count": null,
   "metadata": {},
   "outputs": [],
   "source": [
    "from datetime import datetime, timedelta\n",
    "from coinsapp.models import Coin, Value, Coinproperties\n",
    "\n",
    "\n",
    "t=datetime.now()-timedelta(hours=2)\n",
    "t_half=datetime.now()-timedelta(minutes=30)\n",
    "coin=Coin.objects.get(coin_name='IOST')\n",
    "\n",
    "volume=coin.value_set.filter(reqtime__gt=t).order_by('reqtime')\n",
    "\n",
    "#VOLUME CHANEG 1 HOUR\n",
    "Lastvolume=volume.last().coin_basevolume\n",
    "Firstvolume=volume.first().coin_basevolume\n",
    "volumechange=(Lastvolume-Firstvolume)/Firstvolume*100\n",
    "print('#VOLUME CHANEG 1 HOUR')\n",
    "print('Lastvolume',Lastvolume)\n",
    "print('Firstvolume',Firstvolume)\n",
    "print('volumechange',volumechange)\n",
    "\n",
    "\n",
    "#PRICE CHANGE 1 HOUR\n",
    "Lastprice=volume.last().coin_value\n",
    "Firstprice=volume.first().coin_value\n",
    "pricechange=(Lastprice-Firstprice)/Firstprice*100\n",
    "print('#PRICE CHANGE 1 HOUR')\n",
    "print('Lastprice',Lastprice)\n",
    "print('Firstprice',Firstprice)\n",
    "print('pricechange',pricechange)\n",
    "\n",
    "#!!!Publisher.objects.filter(id=1).update(name='Apress Publishing')\n",
    "\n",
    "volume_half=coin.value_set.filter(reqtime__gt=t_half).order_by('reqtime')\n",
    "\n",
    "#VOLUME CHANGE 30 MIN\n",
    "Last_volumehalf=volume_half.last().coin_basevolume\n",
    "First_volumehalf=volume_half.first().coin_basevolume\n",
    "volume_changehalf=(Last_volumehalf-First_volumehalf)/First_volumehalf*100\n",
    "print('#VOLUME CHANGE 30 MIN')\n",
    "print('Last_volumehalf',Last_volumehalf)\n",
    "print('Last_volumehalf',Last_volumehalf)\n",
    "print('volume_changehalf',volume_changehalf)\n",
    "\n",
    "#PRICE CHANEG 30 MIN\n",
    "Last_pricehalf=volume_half.last().coin_value\n",
    "First_pricehalf=volume_half.first().coin_value\n",
    "price_changehalf=(Last_pricehalf-First_pricehalf)/First_pricehalf*100\n",
    "print('#PRICE CHANEG 30 MIN')\n",
    "print('Last_pricehalf',Last_pricehalf)\n",
    "print('First_pricehalf',First_pricehalf)\n",
    "print('price_changehalf',price_changehalf)\n"
   ]
  },
  {
   "cell_type": "code",
   "execution_count": 23,
   "metadata": {},
   "outputs": [
    {
     "name": "stdout",
     "output_type": "stream",
     "text": [
      "(0.410579, datetime.datetime(2018, 2, 17, 15, 26, 55, 141593))\n",
      "(0.409571, datetime.datetime(2018, 2, 17, 15, 36, 55, 82145))\n",
      "(0.409367, datetime.datetime(2018, 2, 17, 15, 46, 55, 156131))\n",
      "(0.411482, datetime.datetime(2018, 2, 17, 15, 56, 55, 419765))\n",
      "(0.411893, datetime.datetime(2018, 2, 17, 16, 6, 55, 516417))\n",
      "(0.412575, datetime.datetime(2018, 2, 17, 16, 16, 55, 445511))\n"
     ]
    }
   ],
   "source": [
    "t=datetime.now()-timedelta(hours=1)\n",
    "\n",
    "coin=Coin.objects.get(coin_name='ADA')\n",
    "\n",
    "volume=coin.value_set.filter(reqtime__gt=t).order_by('reqtime')\n",
    "\n",
    "for value in volume:\n",
    "    print(value.coin_value, value.reqtime)"
   ]
  }
 ],
 "metadata": {
  "kernelspec": {
   "display_name": "Django Shell-Plus",
   "language": "python",
   "name": "django_extensions"
  },
  "language_info": {
   "codemirror_mode": {
    "name": "ipython",
    "version": 2
   },
   "file_extension": ".py",
   "mimetype": "text/x-python",
   "name": "python",
   "nbconvert_exporter": "python",
   "pygments_lexer": "ipython2",
   "version": "2.7.12"
  }
 },
 "nbformat": 4,
 "nbformat_minor": 2
}
