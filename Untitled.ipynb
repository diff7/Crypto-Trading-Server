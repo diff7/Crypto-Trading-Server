{
 "cells": [
  {
   "cell_type": "code",
   "execution_count": 2,
   "metadata": {},
   "outputs": [],
   "source": [
    "import django \n",
    "django.setup()\n",
    "\n",
    "import ccxt\n",
    "from coinsapp.models import Coin, Value, Coinproperties\n",
    "import requests\n",
    "from datetime import datetime, timedelta\n",
    "from coinsapp.models import Coin, Value, Coinproperties\n"
   ]
  },
  {
   "cell_type": "code",
   "execution_count": 9,
   "metadata": {},
   "outputs": [],
   "source": [
    "from coinsapp.get_and_filter_coin_data import get_my_coin_data, delete_old_values, update_my_markers, make_coin_properties\n",
    "\n",
    "#get_my_coin_data()\n",
    "delete_old_values()\n",
    "#update_my_markers()\n",
    "#make_coin_properties()\n"
   ]
  }
 ],
 "metadata": {
  "kernelspec": {
   "display_name": "Django Shell-Plus",
   "language": "python",
   "name": "django_extensions"
  },
  "language_info": {
   "codemirror_mode": {
    "name": "ipython",
    "version": 2
   },
   "file_extension": ".py",
   "mimetype": "text/x-python",
   "name": "python",
   "nbconvert_exporter": "python",
   "pygments_lexer": "ipython2",
   "version": "2.7.12"
  }
 },
 "nbformat": 4,
 "nbformat_minor": 2
}
