{
 "cells": [
  {
   "cell_type": "code",
   "execution_count": 1,
   "metadata": {},
   "outputs": [],
   "source": [
    "import django \n",
    "django.setup()\n",
    "\n",
    "import ccxt\n",
    "from coinsapp.models import Coin, Value, Coinproperties\n",
    "import requests\n",
    "from datetime import datetime, timedelta\n",
    "from coinsapp.models import Coin, Value, Coinproperties\n"
   ]
  },
  {
   "cell_type": "code",
   "execution_count": 1,
   "metadata": {
    "scrolled": true
   },
   "outputs": [],
   "source": [
    "from coinsapp.get_and_filter_coin_data import get_my_coin_data, delete_old_values, update_my_markers, make_coin_properties, get_coin_ful_name, get_my_symbols\n",
    "\n",
    "#get_my_coin_data()\n",
    "#delete_old_values()\n",
    "#update_my_markers()\n",
    "make_coin_properties()\n",
    "#get_my_symbols()\n",
    "\n",
    "\n"
   ]
  },
  {
   "cell_type": "code",
   "execution_count": 6,
   "metadata": {},
   "outputs": [
    {
     "name": "stdout",
     "output_type": "stream",
     "text": [
      "#PRICE CHANGE 30\n",
      "('Last_volumehalf', 1115419.0)\n",
      "('First_volumehalf', 1122667.0)\n",
      "('volume_changehalf', -0.6456055090244925)\n",
      "#PRICE CHANGE 30\n",
      "('Last_pricehalf', 0.00183289)\n",
      "('First_pricehalf', 0.0018448)\n",
      "('price_changehalf', -0.6455984388551582)\n"
     ]
    }
   ],
   "source": [
    "from datetime import datetime, timedelta\n",
    "from coinsapp.models import Coin, Value, Coinproperties\n",
    "\n",
    "\n",
    "t=datetime.now()-timedelta(hours=2)\n",
    "t_half=datetime.now()-timedelta(minutes=30)\n",
    "coin=Coin.objects.get(coin_ticker=\"BLZ BlazeCoin\")\n",
    "\n",
    "#for ticker in coin:\n",
    "\n",
    "volume=coin.value_set.filter(reqtime__gt=t).order_by('reqtime')\n",
    "type(volume)\n",
    "\n",
    "# # # #VOLUME CHANEG 1 HOUR\n",
    "# Lastvolume=volume.last().coin_basevolume\n",
    "# Firstvolume=volume.first().coin_basevolume\n",
    "# volumechange=(Lastvolume-Firstvolume)/Firstvolume*100\n",
    "# print('#VOLUME CHANEG 1 HOUR')\n",
    "# print('Lastvolume',Lastvolume)\n",
    "# print('Firstvolume',Firstvolume)\n",
    "# print('volumechange',volumechange)\n",
    "\n",
    "\n",
    "# #PRICE CHANGE 1 HOUR\n",
    "# Lastprice=volume.last().coin_value\n",
    "# Firstprice=volume.first().coin_value\n",
    "# pricechange=(Lastprice-Firstprice)/Firstprice*100\n",
    "# print('#PRICE CHANGE 1 HOUR')\n",
    "# print('Lastprice',Lastprice)\n",
    "# print('Firstprice',Firstprice)\n",
    "# print('pricechange',pricechange)\n",
    "\n",
    "volume_half=coin.value_set.filter(reqtime__gt=t_half).order_by('reqtime')\n",
    "\n",
    "#VOLUME CHANGE 30 MIN\n",
    "Last_volumehalf=volume_half.first().coin_basevolume\n",
    "First_volumehalf=volume_half.last().coin_basevolume\n",
    "volume_changehalf=(Last_volumehalf-First_volumehalf)/First_volumehalf*100\n",
    "print('#PRICE CHANGE 30')\n",
    "print('Last_volumehalf',Last_volumehalf)\n",
    "print('First_volumehalf',First_volumehalf)\n",
    "print('volume_changehalf',volume_changehalf)\n",
    "\n",
    "\n",
    "#PRICE CHANEG 30 MIN\n",
    "Last_pricehalf=volume_half.first().coin_value\n",
    "First_pricehalf=volume_half.last().coin_value\n",
    "price_changehalf=(Last_pricehalf-First_pricehalf)/First_pricehalf*100\n",
    "\n",
    "print('#PRICE CHANGE 30')\n",
    "print('Last_pricehalf',Last_pricehalf)\n",
    "print('First_pricehalf',First_pricehalf)\n",
    "print('price_changehalf',price_changehalf)\n",
    "\n",
    "coin\n"
   ]
  },
  {
   "cell_type": "code",
   "execution_count": 23,
   "metadata": {
    "scrolled": true
   },
   "outputs": [
    {
     "name": "stdout",
     "output_type": "stream",
     "text": [
      "(0.410579, datetime.datetime(2018, 2, 17, 15, 26, 55, 141593))\n",
      "(0.409571, datetime.datetime(2018, 2, 17, 15, 36, 55, 82145))\n",
      "(0.409367, datetime.datetime(2018, 2, 17, 15, 46, 55, 156131))\n",
      "(0.411482, datetime.datetime(2018, 2, 17, 15, 56, 55, 419765))\n",
      "(0.411893, datetime.datetime(2018, 2, 17, 16, 6, 55, 516417))\n",
      "(0.412575, datetime.datetime(2018, 2, 17, 16, 16, 55, 445511))\n"
     ]
    }
   ],
   "source": [
    "t=datetime.now()-timedelta(hours=1)\n",
    "\n",
    "coin=Coin.objects.get(coin_name='ADA')\n",
    "\n",
    "volume=coin.value_set.filter(reqtime__gt=t).order_by('reqtime')\n",
    "\n",
    "for value in volume:\n",
    "    print(value.coin_value, value.reqtime)"
   ]
  },
  {
   "cell_type": "code",
   "execution_count": 1,
   "metadata": {},
   "outputs": [
    {
     "data": {
      "text/plain": [
       "(218, {u'coinsapp.Coinproperties': 218})"
      ]
     },
     "execution_count": 1,
     "metadata": {},
     "output_type": "execute_result"
    }
   ],
   "source": [
    "# for row in Coin.objects.all():\n",
    "#     if Coin.objects.filter(coin_name=row.coin_name).count() > 1:\n",
    "#          row.delete()\n",
    "Coinproperties.objects.all().delete()\n",
    "\n",
    "\n"
   ]
  },
  {
   "cell_type": "code",
   "execution_count": 4,
   "metadata": {},
   "outputs": [
    {
     "name": "stdout",
     "output_type": "stream",
     "text": [
      "POWR Power Ledger\n",
      "LINK ChainLink\n",
      "FUN FunFair\n",
      "CND Cindicator\n",
      "SALT SALT\n",
      "NEBL Neblio\n",
      "ENG Enigma\n",
      "BNT Bancor\n",
      "OST Simple Token\n",
      "SNGLS SingularDTV\n",
      "WABI WaBi\n",
      "INS INS Ecosystem\n",
      "VIA Viacoin\n",
      "BRD Bread\n",
      "GTO Gifto\n",
      "NULS Nuls\n",
      "WINGS Wings\n",
      "TNT Tierion\n",
      "RDN Raiden Network Token\n",
      "DASH Dash\n",
      "XMR Monero\n",
      "ETC Ethereum Classic\n",
      "VEN VeChain\n",
      "TRX TRON\n",
      "LSK Lisk\n",
      "QTUM Qtum\n",
      "BTG Bitcoin Gold\n",
      "OMG OmiseGO\n",
      "ICX ICON\n",
      "ZEC Zcash\n",
      "REQ Request Network\n",
      "QSP Quantstamp\n",
      "ENJ Enjin Coin\n",
      "ICN Iconomi\n",
      "CTR Centra\n",
      "TRIG Triggers\n",
      "XVG Verge\n",
      "POE Po.et\n",
      "STEEM Steem\n",
      "NANO Nano\n",
      "BNB Binance Coin\n",
      "PPT Populous\n",
      "STORJ Storj\n",
      "SUB Substratum\n",
      "LEND ETHLend\n",
      "MANA Decentraland\n",
      "NAV NAV Coin\n",
      "ADX AdEx\n",
      "MOD Modum\n",
      "CDT CoinDash\n",
      "DNT district0x\n",
      "EVX Everex\n",
      "VIB Viberate\n",
      "MTH Monetha\n",
      "LUN Lunyr\n",
      "BCPT BlockMason Credit Protocol\n",
      "DLT Agrello\n",
      "ARN Aeron\n",
      "MDA Moeda Loyalty Points\n",
      "OAX OAX\n",
      "BLZ BlazeCoin\n",
      "BTC Bitcoin\n",
      "ETH Ethereum\n",
      "XRP Ripple\n",
      "BCH Bitcoin Cash\n",
      "LTC Litecoin\n",
      "STRAT Stratis\n",
      "WAVES Waves\n",
      "SNT Status\n",
      "BTS BitShares\n",
      "AE Aeternity\n",
      "WTC Waltonchain\n",
      "ZRX 0x\n",
      "DGD DigixDAO\n",
      "KMD Komodo\n",
      "HSR Hshare\n",
      "GAS Gas\n",
      "ARK Ark\n",
      "LRC Loopring\n",
      "ELF aelf\n",
      "PIVX PIVX\n",
      "AION Aion\n",
      "TNB Time New Bank\n",
      "MCO Monaco\n",
      "RLC iExec RLC\n",
      "RPX Red Pulse\n",
      "VIBE VIBE\n",
      "AMB Ambrosus\n",
      "FUEL Etherparty\n",
      "GVT Genesis Vision\n",
      "SNM SONM\n",
      "BLZ Bluzelle\n",
      "EDO Eidoo\n",
      "MTL Metal\n",
      "AST AirSwap\n",
      "APPC AppCoins\n",
      "BTG Bitgem\n",
      "CMT Comet\n",
      "ICN iCoin\n",
      "KNC KingN Coin\n",
      "ADA Cardano\n",
      "KNC Kyber Network\n",
      "IOST IOStoken\n",
      "GXS GXShares\n",
      "XZC ZCoin\n",
      "CMT CyberMiles\n",
      "NEO NEO\n",
      "XLM Stellar\n",
      "EOS EOS\n"
     ]
    }
   ],
   "source": [
    "coins=Coin.objects.exclude(value__coin_value__isnull=True, value__coin_basevolume__isnull=True )\n",
    "\n",
    "for symbol in coins:\n",
    "\n",
    "    volume=symbol.value_set.all()\n",
    "\n",
    "    print(symbol.coin_ticker)"
   ]
  }
 ],
 "metadata": {
  "kernelspec": {
   "display_name": "Django Shell-Plus",
   "language": "python",
   "name": "django_extensions"
  },
  "language_info": {
   "codemirror_mode": {
    "name": "ipython",
    "version": 2
   },
   "file_extension": ".py",
   "mimetype": "text/x-python",
   "name": "python",
   "nbconvert_exporter": "python",
   "pygments_lexer": "ipython2",
   "version": "2.7.12"
  }
 },
 "nbformat": 4,
 "nbformat_minor": 2
}
